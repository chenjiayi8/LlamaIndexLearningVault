{
 "cells": [
  {
   "attachments": {},
   "cell_type": "markdown",
   "id": "e1cc118b-52df-4733-b771-f564ced42936",
   "metadata": {},
   "source": [
    "# Following the starter tutorial of LlamaIndex\n"
   ]
  },
  {
   "cell_type": "code",
   "execution_count": null,
   "id": "1f1634b2",
   "metadata": {},
   "outputs": [],
   "source": [
    "import os\n",
    "from dotenv import dotenv_values\n",
    "config = dotenv_values(\".env\")\n",
    "os.environ[\"OPENAI_API_KEY\"] =config[\"OPENAI_API_KEY\"]\n"
   ]
  },
  {
   "attachments": {},
   "cell_type": "markdown",
   "id": "c92085a0",
   "metadata": {},
   "source": [
    "Download examples"
   ]
  },
  {
   "attachments": {},
   "cell_type": "markdown",
   "id": "1cf11ff6",
   "metadata": {},
   "source": [
    "```\n",
    " git clone https://github.com/jerryjliu/llama_index.git\n",
    "\n",
    "```"
   ]
  },
  {
   "attachments": {},
   "cell_type": "markdown",
   "id": "6df55608",
   "metadata": {},
   "source": [
    "Navigate to the following folder:"
   ]
  },
  {
   "cell_type": "code",
   "execution_count": null,
   "id": "6587f747",
   "metadata": {
    "vscode": {
     "languageId": "shellscript"
    }
   },
   "outputs": [],
   "source": [
    "cd llama_index/examples/paul_graham_essay"
   ]
  },
  {
   "attachments": {},
   "cell_type": "markdown",
   "id": "92ee5614",
   "metadata": {},
   "source": [
    "# Build and Query Index"
   ]
  },
  {
   "cell_type": "code",
   "execution_count": null,
   "id": "a6fb23f2",
   "metadata": {},
   "outputs": [],
   "source": [
    "from llama_index import VectorStoreIndex, SimpleDirectoryReader\n",
    "\n",
    "documents = SimpleDirectoryReader('data').load_data()\n",
    "index = VectorStoreIndex.from_documents(documents)\n"
   ]
  },
  {
   "attachments": {},
   "cell_type": "markdown",
   "id": "f26ae442",
   "metadata": {},
   "source": [
    "Viewing Queries and Events Using Logging\n"
   ]
  },
  {
   "cell_type": "code",
   "execution_count": null,
   "id": "c1dae332",
   "metadata": {},
   "outputs": [],
   "source": [
    "import logging\n",
    "import sys\n",
    "\n",
    "logging.basicConfig(stream=sys.stdout, level=logging.DEBUG)\n",
    "logging.getLogger().addHandler(logging.StreamHandler(stream=sys.stdout))"
   ]
  },
  {
   "cell_type": "code",
   "execution_count": null,
   "id": "7ce57d63",
   "metadata": {},
   "outputs": [],
   "source": [
    "query_engine = index.as_query_engine()\n",
    "response = query_engine.query(\"What did the author do growing up?\")\n",
    "print(response)"
   ]
  },
  {
   "attachments": {},
   "cell_type": "markdown",
   "id": "82ac5888",
   "metadata": {},
   "source": [
    "Set log level"
   ]
  },
  {
   "cell_type": "code",
   "execution_count": null,
   "id": "9b12a85b",
   "metadata": {},
   "outputs": [],
   "source": [
    "logger = logging.getLogger()\n",
    "logger.setLevel(logging.ERROR)"
   ]
  },
  {
   "cell_type": "code",
   "execution_count": null,
   "id": "5773b88a",
   "metadata": {},
   "outputs": [],
   "source": [
    "response = query_engine.query(\"Can you summary the main timeline in the essay?\")\n",
    "print(response)"
   ]
  },
  {
   "attachments": {},
   "cell_type": "markdown",
   "id": "e258b5e7",
   "metadata": {},
   "source": [
    "Saving and Loading"
   ]
  },
  {
   "cell_type": "code",
   "execution_count": null,
   "id": "1c50e2c6",
   "metadata": {},
   "outputs": [],
   "source": [
    "index.storage_context.persist(\"./data/index\")"
   ]
  },
  {
   "cell_type": "code",
   "execution_count": null,
   "id": "bb8e8164",
   "metadata": {},
   "outputs": [],
   "source": [
    "from llama_index import StorageContext, load_index_from_storage\n",
    "\n",
    "# rebuild storage context\n",
    "storage_context = StorageContext.from_defaults(persist_dir=\"./data/index\")\n",
    "# load index\n",
    "index = load_index_from_storage(storage_context)"
   ]
  }
 ],
 "metadata": {
  "kernelspec": {
   "display_name": "Python 3 (ipykernel)",
   "language": "python",
   "name": "python3"
  },
  "language_info": {
   "codemirror_mode": {
    "name": "ipython",
    "version": 3
   },
   "file_extension": ".py",
   "mimetype": "text/x-python",
   "name": "python",
   "nbconvert_exporter": "python",
   "pygments_lexer": "ipython3",
   "version": "3.10.6"
  }
 },
 "nbformat": 4,
 "nbformat_minor": 5
}
